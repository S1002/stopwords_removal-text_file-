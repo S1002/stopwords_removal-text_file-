{
 "cells": [
  {
   "cell_type": "code",
   "execution_count": 8,
   "id": "81a6f603",
   "metadata": {},
   "outputs": [
    {
     "name": "stdout",
     "output_type": "stream",
     "text": [
      "Introduction.txt\n"
     ]
    }
   ],
   "source": [
    "from nltk.corpus import stopwords\n",
    "import os\n",
    "\n",
    "# Bring in the default English NLTK stop words\n",
    "stoplist = stopwords.words('english')\n",
    "\n",
    "# Define additional stopwords in a string\n",
    "# add additional stop words seperated by spaces\n",
    "# additional_stopwords = \"\"\"can ieee vol eta com may different less let raf cos will con real cat can't cant\"\"\"\n",
    "\n",
    "# Split the the additional stopwords string on each word and then add\n",
    "# those words to the NLTK stopwords list\n",
    "# stoplist += additional_stopwords.split()\n",
    "\n",
    "# change loop dir to the FULL path of where all your .txt files reside\n",
    "# change save path to a dir where you want your new stop word removed txt files saved\n",
    "loop_dir = \"E:/PPT/new/\"\n",
    "save_dir= \"E:/PPT/pre processed file/\"\n",
    "\n",
    "# Open a file and read it into memory\n",
    "for txt in os.listdir(loop_dir):\n",
    "\tprint(txt)\n",
    "\tfile = open(loop_dir + txt)\n",
    "\tsave_file = open(save_dir + txt, 'w')\n",
    "\ttext = file.read()\n",
    "\n",
    "\t# Apply the stoplist to the text\n",
    "\tcleaned = [word for word in text.split() if word not in stoplist]\n",
    "\n",
    "\tsave_file.writelines([\"%s\\n\" % item  for item in cleaned])"
   ]
  },
  {
   "cell_type": "code",
   "execution_count": null,
   "id": "10552b63",
   "metadata": {},
   "outputs": [],
   "source": [
    "import os\n",
    "name = os.listdir('E:/PPT/docx/')\n",
    "\n",
    "import docx2txt\n",
    "\n",
    "for i in name:\n",
    "    # Passing docx file to process function\n",
    "    text = docx2txt.process('E:/PPT/docx/%s'%i)\n",
    "\n",
    "    # Saving content inside docx file into output.txt file\n",
    "    with open('E:/PPT/docx/%s.txt'%i, \"w\") as text_file:\n",
    "        print(text, file=text_file)"
   ]
  },
  {
   "cell_type": "code",
   "execution_count": null,
   "id": "7cef5649",
   "metadata": {},
   "outputs": [],
   "source": [
    "\n",
    "source_folder=r'E:/PPT/new'\n",
    "for filename in os.listdir(source_folder):\n",
    "    if filename[-4:] == 'pptx':\n",
    "        \n",
    "        file1 = open(source_folder+filename[:-5]+\".txt\", \"w\")\n",
    "        L = []\n",
    "\n",
    "        for eachfile in glob.glob(source_folder+filename):\n",
    "            prs = Presentation(eachfile)\n",
    "            for slide in prs.slides:\n",
    "                for shape in slide.shapes:\n",
    "                    if hasattr(shape, \"text\"):\n",
    "                        L.append(shape.text)\n",
    "        file1.writelines(L)\n",
    "        file1.close()  "
   ]
  },
  {
   "cell_type": "code",
   "execution_count": 3,
   "id": "62eccada",
   "metadata": {},
   "outputs": [],
   "source": [
    "import io\n",
    "from nltk.corpus import stopwords\n",
    "from nltk.tokenize import word_tokenize\n",
    "import os\n",
    "\n",
    "source_folder=r'E:/PPT/text'\n",
    "for filename in os.listdir(source_folder):\n",
    "    if filename[-4:] == 'txt':\n",
    "\n",
    "        stop_words = set(stopwords.words('english'))\n",
    "        file1 = open(source_folder+filename[:-5]+\".txt\", \"w\")\n",
    "        line = file1.read()\n",
    "        words = word_tokenize(line)\n",
    "        words_witout_stop_words = [\"\" if word in stop_words else word for word in words]\n",
    "        new_words = \" \".join(words_witout_stop_words).strip()\n",
    "        appendFile = open(r'E:/PPT/text/subfolder/'+filename,'w')\n",
    "        appendFile.write(new_words)\n",
    "        appendFile.close()"
   ]
  },
  {
   "cell_type": "code",
   "execution_count": null,
   "id": "738f963d",
   "metadata": {},
   "outputs": [],
   "source": [
    "import io\n",
    "from nltk.corpus import stopwords\n",
    "from nltk.tokenize import word_tokenize\n",
    "\n",
    "stop_words = set(stopwords.words('english'))\n",
    "file1 = open(r\"E:\\PPT\\new\\Introduction.txt\")\n",
    "line = file1.read()\n",
    "words = word_tokenize(line)\n",
    "words_witout_stop_words = [\"\" if word in stop_words else word for word in words]\n",
    "new_words = \" \".join(words_witout_stop_words).strip()\n",
    "appendFile = open(r'E:/PPT/text/subfolder/file4.txt','w')\n",
    "appendFile.write(new_words)\n",
    "appendFile.close()"
   ]
  },
  {
   "cell_type": "code",
   "execution_count": 16,
   "id": "9a4bef54",
   "metadata": {},
   "outputs": [
    {
     "name": "stdout",
     "output_type": "stream",
     "text": [
      "a.txt\n",
      "b.txt\n",
      "c.txt\n",
      "d.txt\n"
     ]
    }
   ],
   "source": [
    "import io\n",
    "from nltk.corpus import stopwords\n",
    "from nltk.tokenize import word_tokenize\n",
    "import os\n",
    "\n",
    "source_folder=r'E:/PPT/text/'\n",
    "for filename in os.listdir(source_folder):\n",
    "    if filename[-3:] == 'txt':\n",
    "        print(filename)\n",
    "\n",
    "        stop_words = set(stopwords.words('english'))\n",
    "        file1 = open(source_folder+filename)\n",
    "        line = file1.read()\n",
    "        words = word_tokenize(line)\n",
    "        words_witout_stop_words = [\"\" if word in stop_words else word for word in words]\n",
    "        new_words = \" \".join(words_witout_stop_words).strip()\n",
    "        appendFile = open(r'E:/PPT/text/subfolder/'+filename,'w')\n",
    "        appendFile.write(new_words)\n",
    "        appendFile.close()"
   ]
  },
  {
   "cell_type": "code",
   "execution_count": null,
   "id": "9e0c6055",
   "metadata": {},
   "outputs": [],
   "source": []
  }
 ],
 "metadata": {
  "kernelspec": {
   "display_name": "Python 3",
   "language": "python",
   "name": "python3"
  },
  "language_info": {
   "codemirror_mode": {
    "name": "ipython",
    "version": 3
   },
   "file_extension": ".py",
   "mimetype": "text/x-python",
   "name": "python",
   "nbconvert_exporter": "python",
   "pygments_lexer": "ipython3",
   "version": "3.6.13"
  }
 },
 "nbformat": 4,
 "nbformat_minor": 5
}
